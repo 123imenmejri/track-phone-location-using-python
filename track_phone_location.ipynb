{
  "nbformat": 4,
  "nbformat_minor": 0,
  "metadata": {
    "colab": {
      "provenance": []
    },
    "kernelspec": {
      "name": "python3",
      "display_name": "Python 3"
    },
    "language_info": {
      "name": "python"
    }
  },
  "cells": [
    {
      "cell_type": "code",
      "execution_count": 1,
      "metadata": {
        "colab": {
          "base_uri": "https://localhost:8080/"
        },
        "id": "W9l1D0QDVvrb",
        "outputId": "f0b28464-7655-46fb-ff93-a11b4e42713a"
      },
      "outputs": [
        {
          "output_type": "stream",
          "name": "stdout",
          "text": [
            "Looking in indexes: https://pypi.org/simple, https://us-python.pkg.dev/colab-wheels/public/simple/\n",
            "Collecting phonenumbers\n",
            "  Downloading phonenumbers-8.13.2-py2.py3-none-any.whl (2.6 MB)\n",
            "\u001b[K     |████████████████████████████████| 2.6 MB 6.9 MB/s \n",
            "\u001b[?25hInstalling collected packages: phonenumbers\n",
            "Successfully installed phonenumbers-8.13.2\n"
          ]
        }
      ],
      "source": [
        "! pip install phonenumbers "
      ]
    },
    {
      "cell_type": "code",
      "source": [
        "import phonenumbers \n",
        "from phonenumbers import geocoder \n",
        "from phonenumbers import carrier \n",
        "from phonenumbers import timezone "
      ],
      "metadata": {
        "id": "25c0knLeWn-V"
      },
      "execution_count": 2,
      "outputs": []
    },
    {
      "cell_type": "code",
      "source": [
        "number = input (\"\\nEnter number :\") # enter phone number \n",
        "print() #enter phone number  \n",
        "\n",
        "ch_number = phonenumbers.parse (number,\"CH\")\n",
        "number_country = geocoder.description_for_number(ch_number,\"en\")\n",
        "\n",
        "service_provider = phonenumbers.parse(number,\"RO\")\n",
        "number_provider = carrier.name_for_number(service_provider,\"en\")\n",
        "\n",
        "phone_number = phonenumbers.parse(number)\n",
        "time_zone= timezone.time_zones_for_number(phone_number)\n",
        "print (\"\\nCountry :\", number_country )\n",
        "print (\"\\nTimeZone and Region : \" , time_zone )\n",
        "print(\"\\nService/Carrier Provider :\" , number_provider)\n",
        "print()\n"
      ],
      "metadata": {
        "colab": {
          "base_uri": "https://localhost:8080/"
        },
        "id": "zH21srzpXA1k",
        "outputId": "0d7a2913-6fb1-481e-fa79-c32482e10af8"
      },
      "execution_count": 15,
      "outputs": [
        {
          "output_type": "stream",
          "name": "stdout",
          "text": [
            "\n",
            "Enter number :+40721234567\n",
            "\n",
            "\n",
            "Country : Romania\n",
            "\n",
            "TimeZone and Region :  ('Europe/Bucharest',)\n",
            "\n",
            "Service/Carrier Provider : Vodafone\n",
            "\n"
          ]
        }
      ]
    }
  ]
}